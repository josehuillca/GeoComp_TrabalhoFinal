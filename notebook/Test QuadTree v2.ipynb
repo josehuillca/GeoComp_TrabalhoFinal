{
 "cells": [
  {
   "cell_type": "code",
   "execution_count": 1,
   "metadata": {},
   "outputs": [],
   "source": [
    "%load_ext autoreload\n",
    "%autoreload 2"
   ]
  },
  {
   "cell_type": "code",
   "execution_count": 2,
   "metadata": {},
   "outputs": [],
   "source": [
    "import sys\n",
    "sys.path.append('../')\n",
    "\n",
    "import numpy as np\n",
    "import matplotlib.pyplot as plt\n",
    "from quadtree.point import Point\n",
    "from quadtree.rect import Rect\n",
    "from quadtree.quadtree import QuadTree\n",
    "from matplotlib import gridspec\n",
    "from utils import image_resize\n",
    "\n",
    "import numpy as np\n",
    "import cv2\n",
    "import matplotlib.pyplot as plt\n",
    "%matplotlib inline"
   ]
  },
  {
   "cell_type": "code",
   "execution_count": 3,
   "metadata": {},
   "outputs": [],
   "source": [
    "coord_x = [355,340,160,310,210,260,280,297,240,260,260,260,280,297,310,170,220,260,110,110,110,140]\n",
    "coord_y = [10,60,90,90,110,110,110,110,140,130,145,160,160,160,160,220,220,240,280,320,360,388]"
   ]
  },
  {
   "cell_type": "code",
   "execution_count": 8,
   "metadata": {},
   "outputs": [
    {
     "name": "stdout",
     "output_type": "stream",
     "text": [
      "[(355, 10): None] 1 1\n",
      "[(340, 60): None] 1 1\n",
      "[(160, 90): None] 1 1\n",
      "[(310, 90): None] 1 1\n",
      "[(210, 110): None] 1 1\n",
      "[(260, 110): None] 1 1\n",
      "[(280, 110): None] 1 1\n",
      "[(297, 110): None] 1 1\n",
      "[(240, 140): None] 1 1\n",
      "[(260, 130): None] 1 1\n",
      "[(260, 145): None] 1 1\n",
      "[(260, 160): None] 1 1\n",
      "[(280, 160): None] 1 1\n",
      "[(297, 160): None] 1 1\n",
      "[(310, 160): None] 1 1\n",
      "[(170, 220): None] 1 1\n",
      "[(220, 220): None] 1 1\n",
      "[(260, 240): None] 1 1\n",
      "[(110, 280): None] 1 1\n",
      "[(110, 320): None] 1 1\n",
      "[(110, 360): None] 1 1\n",
      "[(140, 388): None] 1 1\n",
      "Number of points in the domain = 2\n"
     ]
    }
   ],
   "source": [
    "DPI = 72\n",
    "width, height = 400, 400\n",
    "\n",
    "points = [Point(*coord) for coord in zip(coord_x, coord_y)]\n",
    "domain = Rect(width/2, height/2, width, height)\n",
    "\n",
    "qtree = QuadTree(domain, 1)\n",
    "for point in points:\n",
    "    qtree.insert(point)\n",
    "\n",
    "print('Number of points in the domain =', len(qtree))"
   ]
  },
  {
   "cell_type": "code",
   "execution_count": 9,
   "metadata": {},
   "outputs": [
    {
     "data": {
      "image/png": "[encoded data removed]",
      "text/plain": [
       "<Figure size 400x400 with 1 Axes>"
      ]
     },
     "metadata": {},
     "output_type": "display_data"
    }
   ],
   "source": [
    "# Plot\n",
    "fig = plt.figure(figsize=(width/DPI, height/DPI), dpi=DPI)\n",
    "ax = plt.subplot()\n",
    "ax.set_xlim(0, width)\n",
    "ax.set_ylim(height, 0)\n",
    "qtree.draw(ax)\n",
    "\n",
    "ax.scatter([p.x for p in points], [p.y for p in points], s=4)\n",
    "ax.set_xticks([])\n",
    "ax.set_yticks([])\n",
    "plt.show()"
   ]
  },
  {
   "cell_type": "code",
   "execution_count": 7,
   "metadata": {},
   "outputs": [
    {
     "name": "stdout",
     "output_type": "stream",
     "text": [
      "(0.00, 0.00, 400.00, 400.00)\n",
      "P(355.00, 10.00)\n",
      "nw: (0.00, 0.00, 200.00, 200.00)\n",
      "  P(160.00, 90.00)\n",
      "ne: (200.00, 0.00, 400.00, 200.00)\n",
      "  P(340.00, 60.00)\n",
      "  nw: (200.00, 0.00, 300.00, 100.00)\n",
      "    \n",
      "  ne: (300.00, 0.00, 400.00, 100.00)\n",
      "    P(310.00, 90.00)\n",
      "  se: (300.00, 100.00, 400.00, 200.00)\n",
      "    P(310.00, 160.00)\n",
      "  sw: (200.00, 100.00, 300.00, 200.00)\n",
      "    P(210.00, 110.00)\n",
      "    nw: (200.00, 100.00, 250.00, 150.00)\n",
      "      P(240.00, 140.00)\n",
      "    ne: (250.00, 100.00, 300.00, 150.00)\n",
      "      P(260.00, 110.00)\n",
      "      nw: (250.00, 100.00, 275.00, 125.00)\n",
      "        \n",
      "      ne: (275.00, 100.00, 300.00, 125.00)\n",
      "        P(280.00, 110.00)\n",
      "        nw: (275.00, 100.00, 287.50, 112.50)\n",
      "          \n",
      "        ne: (287.50, 100.00, 300.00, 112.50)\n",
      "          P(297.00, 110.00)\n",
      "        se: (287.50, 112.50, 300.00, 125.00)\n",
      "          \n",
      "        sw: (275.00, 112.50, 287.50, 125.00)\n",
      "          \n",
      "      se: (275.00, 125.00, 300.00, 150.00)\n",
      "        \n",
      "      sw: (250.00, 125.00, 275.00, 150.00)\n",
      "        P(260.00, 130.00)\n",
      "        nw: (250.00, 125.00, 262.50, 137.50)\n",
      "          \n",
      "        ne: (262.50, 125.00, 275.00, 137.50)\n",
      "          \n",
      "        se: (262.50, 137.50, 275.00, 150.00)\n",
      "          \n",
      "        sw: (250.00, 137.50, 262.50, 150.00)\n",
      "          P(260.00, 145.00)\n",
      "    se: (250.00, 150.00, 300.00, 200.00)\n",
      "      P(260.00, 160.00)\n",
      "      nw: (250.00, 150.00, 275.00, 175.00)\n",
      "        \n",
      "      ne: (275.00, 150.00, 300.00, 175.00)\n",
      "        P(280.00, 160.00)\n",
      "        nw: (275.00, 150.00, 287.50, 162.50)\n",
      "          \n",
      "        ne: (287.50, 150.00, 300.00, 162.50)\n",
      "          P(297.00, 160.00)\n",
      "        se: (287.50, 162.50, 300.00, 175.00)\n",
      "          \n",
      "        sw: (275.00, 162.50, 287.50, 175.00)\n",
      "          \n",
      "      se: (275.00, 175.00, 300.00, 200.00)\n",
      "        \n",
      "      sw: (250.00, 175.00, 275.00, 200.00)\n",
      "        \n",
      "    sw: (200.00, 150.00, 250.00, 200.00)\n",
      "      \n",
      "se: (200.00, 200.00, 400.00, 400.00)\n",
      "  P(220.00, 220.00)\n",
      "  nw: (200.00, 200.00, 300.00, 300.00)\n",
      "    P(260.00, 240.00)\n",
      "  ne: (300.00, 200.00, 400.00, 300.00)\n",
      "    \n",
      "  se: (300.00, 300.00, 400.00, 400.00)\n",
      "    \n",
      "  sw: (200.00, 300.00, 300.00, 400.00)\n",
      "    \n",
      "sw: (0.00, 200.00, 200.00, 400.00)\n",
      "  P(170.00, 220.00)\n",
      "  nw: (0.00, 200.00, 100.00, 300.00)\n",
      "    \n",
      "  ne: (100.00, 200.00, 200.00, 300.00)\n",
      "    P(110.00, 280.00)\n",
      "  se: (100.00, 300.00, 200.00, 400.00)\n",
      "    P(110.00, 320.00)\n",
      "    nw: (100.00, 300.00, 150.00, 350.00)\n",
      "      \n",
      "    ne: (150.00, 300.00, 200.00, 350.00)\n",
      "      \n",
      "    se: (150.00, 350.00, 200.00, 400.00)\n",
      "      \n",
      "    sw: (100.00, 350.00, 150.00, 400.00)\n",
      "      P(110.00, 360.00)\n",
      "      nw: (100.00, 350.00, 125.00, 375.00)\n",
      "        \n",
      "      ne: (125.00, 350.00, 150.00, 375.00)\n",
      "        \n",
      "      se: (125.00, 375.00, 150.00, 400.00)\n",
      "        P(140.00, 388.00)\n",
      "      sw: (100.00, 375.00, 125.00, 400.00)\n",
      "        \n",
      "  sw: (0.00, 300.00, 100.00, 400.00)\n",
      "    \n"
     ]
    }
   ],
   "source": [
    "print(qtree)"
   ]
  },
  {
   "cell_type": "code",
   "execution_count": null,
   "metadata": {},
   "outputs": [],
   "source": []
  }
 ],
 "metadata": {
  "kernelspec": {
   "display_name": "Python 3",
   "language": "python",
   "name": "python3"
  },
  "language_info": {
   "codemirror_mode": {
    "name": "ipython",
    "version": 3
   },
   "file_extension": ".py",
   "mimetype": "text/x-python",
   "name": "python",
   "nbconvert_exporter": "python",
   "pygments_lexer": "ipython3",
   "version": "3.7.7"
  }
 },
 "nbformat": 4,
 "nbformat_minor": 4
}
