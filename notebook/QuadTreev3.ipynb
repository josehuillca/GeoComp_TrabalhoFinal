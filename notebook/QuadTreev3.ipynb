{
 "cells": [
  {
   "cell_type": "code",
   "execution_count": 1,
   "metadata": {},
   "outputs": [],
   "source": [
    "%load_ext autoreload\n",
    "%autoreload 2"
   ]
  },
  {
   "cell_type": "code",
   "execution_count": 2,
   "metadata": {},
   "outputs": [],
   "source": [
    "import sys\n",
    "sys.path.append('../')\n",
    "\n",
    "from quadtree.quadtree import QTree\n",
    "from quadtree.point import Point"
   ]
  },
  {
   "cell_type": "code",
   "execution_count": 3,
   "metadata": {},
   "outputs": [
    {
     "name": "stdout",
     "output_type": "stream",
     "text": [
      "Number of segments: 52\n",
      "Minimum segment area: 156.250 units\n"
     ]
    },
    {
     "data": {
      "image/png": "[encoded data removed]",
      "text/plain": [
       "<Figure size 864x576 with 1 Axes>"
      ]
     },
     "metadata": {
      "needs_background": "light"
     },
     "output_type": "display_data"
    }
   ],
   "source": [
    "coord_x = [355,340,160,310,210,260,280,297,240,260,260,260,280,297,310,170,220,260,110,110,110,140]\n",
    "coord_y = [10,60,90,90,110,110,110,110,140,130,145,160,160,160,160,220,220,240,280,320,360,388]\n",
    "#points = list(zip(coord_x, coord_y))\n",
    "points = [Point(*coord) for coord in zip(coord_x, coord_y)]\n",
    "\n",
    "a = QTree(1, 400,400, points)\n",
    "a.subdivide()\n",
    "a.draw(400,400)"
   ]
  },
  {
   "cell_type": "markdown",
   "metadata": {},
   "source": [
    "# Testes"
   ]
  },
  {
   "cell_type": "code",
   "execution_count": 18,
   "metadata": {},
   "outputs": [],
   "source": [
    "from quadtree.utils import leaf_nodes, get_neighbor_of_greater_or_equal_size, Direction"
   ]
  },
  {
   "cell_type": "code",
   "execution_count": 19,
   "metadata": {},
   "outputs": [],
   "source": [
    "c = leaf_nodes(a.root)"
   ]
  },
  {
   "cell_type": "code",
   "execution_count": 20,
   "metadata": {},
   "outputs": [
    {
     "name": "stdout",
     "output_type": "stream",
     "text": [
      "[1, 2, 2, 3, 3, 3, 3, 3, 4, 4, 4, 4, 3, 3, 2, 4, 4, 4, 4, 3, 4, 4, 4, 4, 4, 3, 4, 4, 4, 4, 3, 3, 2, 3, 3, 3, 3, 2, 2, 2]\n"
     ]
    }
   ],
   "source": [
    "depths = [el.depth for el in c]\n",
    "print((depths))"
   ]
  },
  {
   "cell_type": "code",
   "execution_count": 21,
   "metadata": {},
   "outputs": [
    {
     "name": "stdout",
     "output_type": "stream",
     "text": [
      "\t x0: 100.0\n",
      "\t y0: 250.0\n",
      "\t width: 50.0\n",
      "\t height: 50.0\n",
      "\t points: P(110.00, 280.00)\n",
      "\n"
     ]
    }
   ],
   "source": [
    "node_test = c[4] #4, 7\n",
    "print(node_test)"
   ]
  },
  {
   "cell_type": "code",
   "execution_count": 24,
   "metadata": {},
   "outputs": [],
   "source": [
    "neightbor = get_neighbor_of_greater_or_equal_size(node_test, Direction.W)"
   ]
  },
  {
   "cell_type": "code",
   "execution_count": 25,
   "metadata": {},
   "outputs": [
    {
     "name": "stdout",
     "output_type": "stream",
     "text": [
      "\t x0: 0\n",
      "\t y0: 200.0\n",
      "\t width: 100.0\n",
      "\t height: 100.0\n",
      "\t points: \n",
      "\n"
     ]
    }
   ],
   "source": [
    "print(neightbor)"
   ]
  },
  {
   "cell_type": "code",
   "execution_count": null,
   "metadata": {},
   "outputs": [],
   "source": []
  }
 ],
 "metadata": {
  "kernelspec": {
   "display_name": "Python 3",
   "language": "python",
   "name": "python3"
  },
  "language_info": {
   "codemirror_mode": {
    "name": "ipython",
    "version": 3
   },
   "file_extension": ".py",
   "mimetype": "text/x-python",
   "name": "python",
   "nbconvert_exporter": "python",
   "pygments_lexer": "ipython3",
   "version": "3.7.7"
  }
 },
 "nbformat": 4,
 "nbformat_minor": 4
}
