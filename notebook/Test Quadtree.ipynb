{
 "cells": [
  {
   "cell_type": "code",
   "execution_count": 1,
   "metadata": {},
   "outputs": [],
   "source": [
    "import sys\n",
    "sys.path.append('../')\n",
    "\n",
    "import numpy as np\n",
    "import matplotlib.pyplot as plt\n",
    "from quadtree.point import Point\n",
    "from quadtree.rect import Rect\n",
    "from quadtree.quadtree import QuadTree\n",
    "from matplotlib import gridspec\n",
    "from utils import image_resize\n",
    "\n",
    "import numpy as np\n",
    "import cv2\n",
    "import matplotlib.pyplot as plt\n",
    "%matplotlib inline "
   ]
  },
  {
   "cell_type": "code",
   "execution_count": 3,
   "metadata": {},
   "outputs": [
    {
     "name": "stdout",
     "output_type": "stream",
     "text": [
      "Number of points in the domain = 2790\n"
     ]
    }
   ],
   "source": [
    "DPI = 72\n",
    "\n",
    "width = 500\n",
    "\n",
    "img = cv2.imread('../data/brain.jpg',0) # reads image 'opencv-logo.png' as grayscale\n",
    "img = image_resize(img, width=width)\n",
    "ret,thr = cv2.threshold(img, 240, 255, cv2.THRESH_BINARY)\n",
    "edges = cv2.Canny(thr,0,255)\n",
    "indices = np.where(edges != 0)\n",
    "points = [Point(*coord) for coord in zip(indices[1], indices[0])]\n",
    "                   \n",
    "height, _ = img.shape[:2]\n",
    "\n",
    "domain = Rect(width/2, height/2, width, height)\n",
    "qtree = QuadTree(domain, 10)\n",
    "for point in points:\n",
    "    qtree.insert(point)\n",
    "\n",
    "print('Number of points in the domain =', len(qtree))"
   ]
  },
  {
   "cell_type": "code",
   "execution_count": 4,
   "metadata": {},
   "outputs": [
    {
     "data": {
      "image/png": "[encoded data removed]",
      "text/plain": [
       "<Figure size 500x576 with 1 Axes>"
      ]
     },
     "metadata": {},
     "output_type": "display_data"
    }
   ],
   "source": [
    "fig = plt.figure(figsize=(width/DPI, height/DPI), dpi=DPI)\n",
    "ax = plt.subplot()\n",
    "ax.set_xlim(0, width)\n",
    "ax.set_ylim(height, 0)\n",
    "qtree.draw(ax)\n",
    "\n",
    "ax.scatter([p.x for p in points], [p.y for p in points], s=4)\n",
    "ax.set_xticks([])\n",
    "ax.set_yticks([])\n",
    "plt.show()"
   ]
  },
  {
   "cell_type": "code",
   "execution_count": null,
   "metadata": {},
   "outputs": [],
   "source": []
  }
 ],
 "metadata": {
  "kernelspec": {
   "display_name": "Python 3",
   "language": "python",
   "name": "python3"
  },
  "language_info": {
   "codemirror_mode": {
    "name": "ipython",
    "version": 3
   },
   "file_extension": ".py",
   "mimetype": "text/x-python",
   "name": "python",
   "nbconvert_exporter": "python",
   "pygments_lexer": "ipython3",
   "version": "3.7.7"
  }
 },
 "nbformat": 4,
 "nbformat_minor": 4
}
